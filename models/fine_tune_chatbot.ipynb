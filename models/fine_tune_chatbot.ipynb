# fine_tune_chatbot.ipynb
import pandas as pd
from sklearn.feature_extraction.text import TfidfVectorizer
from sklearn.linear_model import LogisticRegression
from sklearn.model_selection import train_test_split
from sklearn.metrics import classification_report
import joblib

# Example dataset (replace with your own or expand)
data = {
    "text": [
        "How do I feed a stray dog?",
        "I saw an injured cat",
        "Where is the nearest animal shelter?",
        "What should I feed a stray cow?",
        "Report an injured dog",
        "How to help an injured cat?",
        "Feeding schedule for stray animals"
    ],
    "label": [
        "feeding", "SOS", "information", "feeding", "SOS", "SOS", "feeding"
    ]
}

df = pd.DataFrame(data)

# Train-test split
X_train, X_test, y_train, y_test = train_test_split(
    df['text'], df['label'], test_size=0.2, random_state=42
)

# TF-IDF vectorizer
vectorizer = TfidfVectorizer()
X_train_tfidf = vectorizer.fit_transform(X_train)
X_test_tfidf = vectorizer.transform(X_test)

# Logistic Regression classifier
clf = LogisticRegression()
clf.fit(X_train_tfidf, y_train)

# Save model and tokenizer
joblib.dump(clf, "chatbot_model.joblib")
joblib.dump(vectorizer, "tokenizer.pkl")

# Evaluate
y_pred = clf.predict(X_test_tfidf)
print(classification_report(y_test, y_pred))
