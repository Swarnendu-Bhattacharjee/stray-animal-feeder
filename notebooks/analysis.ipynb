# notebooks/analysis.ipynb

# ==========================================================
# Stray Animal Feeder - Data Analysis & Insights
# ==========================================================

# Importing libraries
import pandas as pd
import numpy as np
import matplotlib.pyplot as plt
import seaborn as sns
from utils import log_event

log_event("Starting notebook analysis session...")

# ==========================================================
# 1. Load sample feeding dataset
# ==========================================================
try:
    df = pd.read_csv("../data/feeding_data.csv")
except FileNotFoundError:
    # Create dummy dataset if not exists
    df = pd.DataFrame({
        "timestamp": pd.date_range(start="2025-01-01", periods=30, freq="D"),
        "food_dispensed": np.random.randint(20, 100, size=30),
        "animals_detected": np.random.randint(0, 10, size=30)
    })

log_event("Data loaded successfully")
df.head()

# ==========================================================
# 2. Exploratory Data Analysis (EDA)
# ==========================================================
plt.figure(figsize=(14,6))
plt.plot(df["timestamp"], df["food_dispensed"], marker='o', label="Food Dispensed")
plt.plot(df["timestamp"], df["animals_detected"], marker='x', label="Animals Detected")
plt.title("Feeding Activity Over Time")
plt.xlabel("Date")
plt.ylabel("Count / Units")
plt.legend()
plt.grid(True)
plt.show()

# ==========================================================
# 3. Correlation analysis
# ==========================================================
corr_matrix = df.corr()
sns.heatmap(corr_matrix, annot=True, cmap="coolwarm")
plt.title("Correlation Matrix")
plt.show()

# ==========================================================
# 4. Predictive Simulation (Placeholder)
# ==========================================================
from sklearn.linear_model import LinearRegression

X = df[["animals_detected"]]
y = df["food_dispensed"]

model = LinearRegression()
model.fit(X, y)
predicted = model.predict(X)

plt.figure(figsize=(10,5))
plt.scatter(df["animals_detected"], df["food_dispensed"], color="blue", label="Actual")
plt.plot(df["animals_detected"], predicted, color="red", label="Predicted")
plt.title("Food Dispensed vs Animals Detected")
plt.xlabel("Animals Detected")
plt.ylabel("Food Dispensed")
plt.legend()
plt.show()

log_event("Notebook analysis completed successfully")
